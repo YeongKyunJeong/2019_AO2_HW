{
 "cells": [
  {
   "cell_type": "markdown",
   "metadata": {},
   "source": [
    "1. Each answer for 1-i.~ 1-xxii. should be\n",
    "\n",
    "i.\n",
    "7\n",
    "\n",
    "ii. \n",
    "7.0\n",
    "\n",
    "iii.\n",
    "2\n",
    "\n",
    "iv.\n",
    "72\n",
    "\n",
    "v.\n",
    "7.333333333333333\n",
    "\n",
    "vi.\n",
    "7\n",
    "\n",
    "vii.\n",
    "1\n",
    "\n",
    "viii.\n",
    "4\n",
    "\n",
    "ix.\n",
    "4.0\n",
    "\n",
    "x.\n",
    "4.0\n",
    "\n",
    "xi.\n",
    "hello\n",
    "\n",
    "xii.\n",
    "<class 'int'>\n",
    "\n",
    "xiii.\n",
    "<class 'float'>\n",
    "\n",
    "xiv\n",
    "<class 'int'>\n",
    "\n",
    "xv.\n",
    "<class 'int'>\n",
    "\n",
    "xvi.\n",
    "<class 'float'>\n",
    "\n",
    "xvii.\n",
    "<class 'int'>\n",
    "\n",
    "xviii.\n",
    "<class 'int'>\n",
    "\n",
    "xix.\n",
    "<class 'int'>\n",
    "\n",
    "xx.\n",
    "<class 'float'>\n",
    "\n",
    "xxi.\n",
    "<class 'float'>\n",
    "\n",
    "xxii.\n",
    "<class 'str'>\n",
    "\n",
    "2. Each answer for 2-i. and 2-ii. should be\n",
    "\n",
    "i.\n",
    "assert(22 == 3*e+f)\n",
    "\n",
    "ii.\n",
    "assert(g2 == g3)"
   ]
  },
  {
   "cell_type": "markdown",
   "metadata": {},
   "source": [
    "3. The answer for 3 should be\n",
    "\n",
    "str_quotation = 'Hello, World! It\\'s me \\n\"Hi\"'"
   ]
  },
  {
   "cell_type": "markdown",
   "metadata": {},
   "source": [
    "4. Each answer for 4-i. ~ 4-v. should be\n",
    "\n",
    "i.\n",
    "['a', 'b', 'c']\n",
    "\n",
    "ii.\n",
    "[1, 2, 3.0]\n",
    "\n",
    "iii.\n",
    "<class 'list'>\n",
    "\n",
    "iv.\n",
    "<class 'str'>\n",
    "\n",
    "v.\n",
    "<class 'float'>"
   ]
  },
  {
   "cell_type": "markdown",
   "metadata": {},
   "source": [
    "Code"
   ]
  },
  {
   "cell_type": "code",
   "execution_count": 6,
   "metadata": {},
   "outputs": [],
   "source": [
    "#1\n",
    "a1 = 3 + 4\n",
    "a2 = 3 + 4.\n",
    "b = 4 - 2\n",
    "c = 9 * 8\n",
    "d = 22 / 3\n",
    "e = 22 // 3\n",
    "f = 22 % 3\n",
    "g1 = 2**2\n",
    "g2 = 2.**2\n",
    "g3 = 2**2.\n",
    "h = \"hello\"\n",
    "a1t = type(a1)\n",
    "a2t = type(a2)\n",
    "bt = type(b)\n",
    "ct = type(c)\n",
    "dt = type(d)\n",
    "et = type(e)\n",
    "ft = type(f)\n",
    "g1t = type(g1)\n",
    "g2t = type(g2)\n",
    "g3t = type(g3)\n",
    "ht = type(h)"
   ]
  },
  {
   "cell_type": "code",
   "execution_count": 7,
   "metadata": {},
   "outputs": [
    {
     "name": "stdout",
     "output_type": "stream",
     "text": [
      "7\n",
      "7.0\n",
      "2\n",
      "72\n",
      "7.333333333333333\n",
      "7\n",
      "1\n",
      "4\n",
      "4.0\n",
      "4.0\n",
      "hello\n",
      "<class 'int'>\n",
      "<class 'float'>\n",
      "<class 'int'>\n",
      "<class 'int'>\n",
      "<class 'float'>\n",
      "<class 'int'>\n",
      "<class 'int'>\n",
      "<class 'int'>\n",
      "<class 'float'>\n",
      "<class 'float'>\n",
      "<class 'str'>\n"
     ]
    }
   ],
   "source": [
    "print(a1,a2,b,c,d,e,f,g1,g2,g3,h,a1t,a2t,bt,ct,dt,et,ft,g1t,g2t,g3t,ht ,sep='\\n')"
   ]
  },
  {
   "cell_type": "code",
   "execution_count": 8,
   "metadata": {},
   "outputs": [],
   "source": [
    "#2\n",
    "assert(22==3*e+f)\n",
    "assert(g2 == g3)"
   ]
  },
  {
   "cell_type": "code",
   "execution_count": 9,
   "metadata": {},
   "outputs": [],
   "source": [
    "#3\n",
    "str_quotation = 'Hello, World! It\\'s me \\n\"Hi\"'"
   ]
  },
  {
   "cell_type": "code",
   "execution_count": 10,
   "metadata": {},
   "outputs": [
    {
     "name": "stdout",
     "output_type": "stream",
     "text": [
      "Hello, World! It's me \n",
      "\"Hi\"\n"
     ]
    }
   ],
   "source": [
    "print(str_quotation)"
   ]
  },
  {
   "cell_type": "code",
   "execution_count": 11,
   "metadata": {},
   "outputs": [],
   "source": [
    "#4\n",
    "L_str = [\"a\", \"b\", \"c\"]\n",
    "L_num = [1, 2, 3.]\n",
    "tLs = type(L_str)\n",
    "tLs0 = type(L_str[0])\n",
    "tLn2 = type(L_num[-1])"
   ]
  },
  {
   "cell_type": "code",
   "execution_count": 12,
   "metadata": {},
   "outputs": [
    {
     "name": "stdout",
     "output_type": "stream",
     "text": [
      "['a', 'b', 'c']\n",
      "[1, 2, 3.0]\n",
      "<class 'list'>\n",
      "<class 'str'>\n",
      "<class 'float'>\n"
     ]
    }
   ],
   "source": [
    "print(L_str,L_num,tLs,tLs0,tLn2,sep='\\n')"
   ]
  }
 ],
 "metadata": {
  "kernelspec": {
   "display_name": "Python 3",
   "language": "python",
   "name": "python3"
  },
  "language_info": {
   "codemirror_mode": {
    "name": "ipython",
    "version": 3
   },
   "file_extension": ".py",
   "mimetype": "text/x-python",
   "name": "python",
   "nbconvert_exporter": "python",
   "pygments_lexer": "ipython3",
   "version": "3.7.3"
  }
 },
 "nbformat": 4,
 "nbformat_minor": 2
}
