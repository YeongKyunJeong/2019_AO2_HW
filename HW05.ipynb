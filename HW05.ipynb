{
 "cells": [
  {
   "cell_type": "code",
   "execution_count": 98,
   "metadata": {},
   "outputs": [],
   "source": [
    "import numpy as np\n",
    "import pandas as pd\n",
    "from matplotlib import pyplot as plt"
   ]
  },
  {
   "cell_type": "markdown",
   "metadata": {},
   "source": [
    "# Below codes are composed with first cell the answer of problem is in and second cell printng out the results of first cell."
   ]
  },
  {
   "cell_type": "markdown",
   "metadata": {},
   "source": [
    "# 1"
   ]
  },
  {
   "cell_type": "code",
   "execution_count": 212,
   "metadata": {},
   "outputs": [],
   "source": [
    "np.random.seed(1234)"
   ]
  },
  {
   "cell_type": "code",
   "execution_count": 211,
   "metadata": {},
   "outputs": [
    {
     "name": "stdout",
     "output_type": "stream",
     "text": [
      "[0.19151945 0.62210877 0.43772774 0.78535858 0.77997581]\n"
     ]
    }
   ],
   "source": [
    "#print(np.random.rand(5))"
   ]
  },
  {
   "cell_type": "markdown",
   "metadata": {},
   "source": [
    "# 2"
   ]
  },
  {
   "cell_type": "code",
   "execution_count": 213,
   "metadata": {},
   "outputs": [],
   "source": [
    "data = np.random.normal(loc = 50, scale=3, size=(10,2))"
   ]
  },
  {
   "cell_type": "code",
   "execution_count": 214,
   "metadata": {},
   "outputs": [
    {
     "name": "stdout",
     "output_type": "stream",
     "text": [
      "[[51.41430549 46.42707292]\n",
      " [54.29812091 49.06204431]\n",
      " [47.8382338  52.66148882]\n",
      " [52.57876524 48.09042949]\n",
      " [50.04708912 43.27194514]\n",
      " [53.45010717 52.97583807]\n",
      " [52.85997238 43.93623554]\n",
      " [48.9977679  50.00635509]\n",
      " [51.21636023 50.86727582]\n",
      " [53.96347458 45.35928334]]\n"
     ]
    }
   ],
   "source": [
    "print(data)"
   ]
  },
  {
   "cell_type": "markdown",
   "metadata": {},
   "source": [
    "# 3"
   ]
  },
  {
   "cell_type": "code",
   "execution_count": 215,
   "metadata": {},
   "outputs": [],
   "source": [
    "avgs = np.mean(data,axis=0)"
   ]
  },
  {
   "cell_type": "code",
   "execution_count": 216,
   "metadata": {},
   "outputs": [
    {
     "name": "stdout",
     "output_type": "stream",
     "text": [
      "[51.66641968 48.26579685]\n"
     ]
    }
   ],
   "source": [
    "print(avgs)"
   ]
  },
  {
   "cell_type": "markdown",
   "metadata": {},
   "source": [
    "# 4"
   ]
  },
  {
   "cell_type": "code",
   "execution_count": 217,
   "metadata": {},
   "outputs": [],
   "source": [
    "stds = np.std(data, axis = 0, ddof = 1)"
   ]
  },
  {
   "cell_type": "code",
   "execution_count": 218,
   "metadata": {},
   "outputs": [
    {
     "name": "stdout",
     "output_type": "stream",
     "text": [
      "[2.1680983  3.45576778]\n"
     ]
    }
   ],
   "source": [
    "print(stds)"
   ]
  },
  {
   "cell_type": "markdown",
   "metadata": {},
   "source": [
    "# 5"
   ]
  },
  {
   "cell_type": "code",
   "execution_count": 219,
   "metadata": {},
   "outputs": [],
   "source": [
    "ses = stds/np.sqrt(data.shape[0])"
   ]
  },
  {
   "cell_type": "code",
   "execution_count": 220,
   "metadata": {},
   "outputs": [
    {
     "name": "stdout",
     "output_type": "stream",
     "text": [
      "[0.68561288 1.09280972]\n"
     ]
    }
   ],
   "source": [
    "print(ses)"
   ]
  },
  {
   "cell_type": "code",
   "execution_count": 221,
   "metadata": {},
   "outputs": [
    {
     "name": "stdout",
     "output_type": "stream",
     "text": [
      "10\n"
     ]
    }
   ],
   "source": [
    "print(data.shape[0])"
   ]
  },
  {
   "cell_type": "markdown",
   "metadata": {},
   "source": [
    "# 6"
   ]
  },
  {
   "cell_type": "code",
   "execution_count": 222,
   "metadata": {},
   "outputs": [
    {
     "data": {
      "text/plain": [
       "array([[ True, False],\n",
       "       [False,  True],\n",
       "       [False, False],\n",
       "       [False,  True],\n",
       "       [False, False],\n",
       "       [False, False],\n",
       "       [False, False],\n",
       "       [False, False],\n",
       "       [ True, False],\n",
       "       [False, False]])"
      ]
     },
     "execution_count": 222,
     "metadata": {},
     "output_type": "execute_result"
    }
   ],
   "source": [
    "np.all([data > avgs -ses, data < avgs +ses], axis=0)"
   ]
  },
  {
   "cell_type": "code",
   "execution_count": 223,
   "metadata": {},
   "outputs": [
    {
     "name": "stdout",
     "output_type": "stream",
     "text": [
      "[51.41430549 54.29812091 47.8382338  52.57876524 50.04708912 53.45010717\n",
      " 52.85997238 48.9977679  51.21636023 53.96347458]\n",
      "50.98080680123874 51.66641968260475 52.35203256397075\n",
      "[46.42707292 49.06204431 52.66148882 48.09042949 43.27194514 52.97583807\n",
      " 43.93623554 50.00635509 50.86727582 45.35928334]\n",
      "47.17298712991034 48.26579685364664 49.35860657738294\n"
     ]
    }
   ],
   "source": [
    "for i in range(data.shape[1]):\n",
    "    print(data[:,i])\n",
    "    print(avgs[i] -ses[i], avgs[i], avgs[i] +ses[i])"
   ]
  },
  {
   "cell_type": "markdown",
   "metadata": {},
   "source": [
    "# 7"
   ]
  },
  {
   "cell_type": "code",
   "execution_count": 224,
   "metadata": {},
   "outputs": [
    {
     "data": {
      "text/plain": [
       "array([[ True,  True],\n",
       "       [False,  True],\n",
       "       [False, False],\n",
       "       [ True,  True],\n",
       "       [ True, False],\n",
       "       [ True, False],\n",
       "       [ True, False],\n",
       "       [False,  True],\n",
       "       [ True,  True],\n",
       "       [False,  True]])"
      ]
     },
     "execution_count": 224,
     "metadata": {},
     "output_type": "execute_result"
    }
   ],
   "source": [
    "np.all([data > avgs -stds, data < avgs +stds], axis=0)"
   ]
  },
  {
   "cell_type": "code",
   "execution_count": 225,
   "metadata": {},
   "outputs": [
    {
     "name": "stdout",
     "output_type": "stream",
     "text": [
      "[51.41430549 54.29812091 47.8382338  52.57876524 50.04708912 53.45010717\n",
      " 52.85997238 48.9977679  51.21636023 53.96347458]\n",
      "49.49832138433736 51.66641968260475 53.834517980872135\n",
      "[46.42707292 49.06204431 52.66148882 48.09042949 43.27194514 52.97583807\n",
      " 43.93623554 50.00635509 50.86727582 45.35928334]\n",
      "44.81002907746055 48.26579685364664 51.721564629832734\n"
     ]
    }
   ],
   "source": [
    "for i in range(data.shape[1]):\n",
    "    print(data[:,i])\n",
    "    print(avgs[i] -stds[i], avgs[i] ,avgs[i] +stds[i])"
   ]
  },
  {
   "cell_type": "markdown",
   "metadata": {},
   "source": [
    "# 8"
   ]
  },
  {
   "cell_type": "markdown",
   "metadata": {},
   "source": [
    "I think it is hard to say that the emission line width has significantly changed, because all the measurements values are in the the confidence interval of 99% confidence level. According to central limit theorem, normal distribution happens when we do some trials which have independent probability each trial with large tiral number.This means if there are any some errors that happens some probability independent of the emission line width and the measurements valuses differences can come from something independent of the emssion line width. So if I have to write a search paper results, I will conclude that there is no evident that shows emission line width of AGN has been changed during 10 years."
   ]
  },
  {
   "cell_type": "code",
   "execution_count": 226,
   "metadata": {},
   "outputs": [
    {
     "data": {
      "text/plain": [
       "array([[ True,  True],\n",
       "       [ True,  True],\n",
       "       [ True,  True],\n",
       "       [ True,  True],\n",
       "       [ True,  True],\n",
       "       [ True,  True],\n",
       "       [ True,  True],\n",
       "       [ True,  True],\n",
       "       [ True,  True],\n",
       "       [ True,  True]])"
      ]
     },
     "execution_count": 226,
     "metadata": {},
     "output_type": "execute_result"
    }
   ],
   "source": [
    "np.all([data > avgs -2.58*stds, data < avgs + 2.58*stds], axis=0)"
   ]
  },
  {
   "cell_type": "markdown",
   "metadata": {},
   "source": [
    "# 9"
   ]
  },
  {
   "cell_type": "code",
   "execution_count": 227,
   "metadata": {},
   "outputs": [
    {
     "data": {
      "image/png": "[encoded data removed]",
      "text/plain": [
       "<Figure size 432x288 with 1 Axes>"
      ]
     },
     "metadata": {
      "needs_background": "light"
     },
     "output_type": "display_data"
    }
   ],
   "source": [
    "np.random.seed(1234)\n",
    "\n",
    "def gauss(x, mu, sigma):\n",
    "    return np.exp(-(x - mu)**2/(2*sigma**2))\n",
    "\n",
    "# For Poisson distribution, variance = mean = std**2\n",
    "mean = 2\n",
    "variance = 2\n",
    "n_sample = 10\n",
    "\n",
    "data_pois = np.random.poisson(lam=mean, size=(n_sample, 100000))\n",
    "avgs_pois = np.mean(data_pois, axis=0)\n",
    "\n",
    "h = plt.hist(avgs_pois, bins=100,color='orange')\n",
    "x = np.linspace(0, 10, 100)\n",
    "\n",
    "expected_mu = mean\n",
    "expected_sigma = np.sqrt(variance)/np.sqrt(n_sample)\n",
    "plt.plot(x, h[0].max()*gauss(x, 2, np.sqrt(2/n_sample)))\n",
    "plt.show()"
   ]
  },
  {
   "cell_type": "markdown",
   "metadata": {},
   "source": [
    "# 10"
   ]
  },
  {
   "cell_type": "code",
   "execution_count": 231,
   "metadata": {},
   "outputs": [
    {
     "name": "stdout",
     "output_type": "stream",
     "text": [
      "65.525 %\n"
     ]
    }
   ],
   "source": [
    "np.random.seed(12354)\n",
    "\n",
    "true_mu = 50\n",
    "true_sigma = 3\n",
    "n_sample = 10\n",
    "\n",
    "data_ci = np.random.normal(loc=true_mu, scale=true_sigma, size=(n_sample, 100000))\n",
    "\n",
    "avgs_ci = data_ci.mean(axis=0)  # Hint: must have length 100000\n",
    "stds_ci = data_ci.std(axis=0, ddof=1)\n",
    "ses_ci = stds_ci / np.sqrt(data_ci.shape[0])\n",
    "\n",
    "hit = ((true_mu > avgs_ci - ses_ci) \n",
    "       & (true_mu < avgs_ci + ses_ci))  # Hint: one of & and |\n",
    "print(100 * np.count_nonzero(hit)/np.shape(hit)[0], \"%\")"
   ]
  }
 ],
 "metadata": {
  "kernelspec": {
   "display_name": "Python 3",
   "language": "python",
   "name": "python3"
  },
  "language_info": {
   "codemirror_mode": {
    "name": "ipython",
    "version": 3
   },
   "file_extension": ".py",
   "mimetype": "text/x-python",
   "name": "python",
   "nbconvert_exporter": "python",
   "pygments_lexer": "ipython3",
   "version": "3.7.3"
  }
 },
 "nbformat": 4,
 "nbformat_minor": 2
}
