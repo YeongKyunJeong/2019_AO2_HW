{
 "cells": [
  {
   "cell_type": "code",
   "execution_count": 1,
   "metadata": {},
   "outputs": [],
   "source": [
    "import numpy as np\n",
    "from matplotlib import pyplot as plt\n",
    "\n",
    "plt.style.use('default')\n",
    "np.random.seed(123)"
   ]
  },
  {
   "cell_type": "markdown",
   "metadata": {},
   "source": [
    "Below codes are composed with first cell the answer of problem is in and second cell printng out the results of first cell."
   ]
  },
  {
   "cell_type": "markdown",
   "metadata": {},
   "source": [
    "# 1"
   ]
  },
  {
   "cell_type": "code",
   "execution_count": 2,
   "metadata": {},
   "outputs": [],
   "source": [
    "A = np.eye(3)"
   ]
  },
  {
   "cell_type": "code",
   "execution_count": 3,
   "metadata": {},
   "outputs": [
    {
     "name": "stdout",
     "output_type": "stream",
     "text": [
      "(3, 3)\n",
      "[[1. 0. 0.]\n",
      " [0. 1. 0.]\n",
      " [0. 0. 1.]]\n"
     ]
    }
   ],
   "source": [
    "print(A.shape, A, sep='\\n')"
   ]
  },
  {
   "cell_type": "markdown",
   "metadata": {},
   "source": [
    "# 2"
   ]
  },
  {
   "cell_type": "code",
   "execution_count": 108,
   "metadata": {},
   "outputs": [],
   "source": [
    "B = np.random.rand(3,3)"
   ]
  },
  {
   "cell_type": "code",
   "execution_count": 109,
   "metadata": {},
   "outputs": [
    {
     "name": "stdout",
     "output_type": "stream",
     "text": [
      "(3, 3)\n",
      "[[0.25045537 0.48303426 0.98555979]\n",
      " [0.51948512 0.61289453 0.12062867]\n",
      " [0.8263408  0.60306013 0.54506801]]\n"
     ]
    }
   ],
   "source": [
    "print(B.shape, B, sep='\\n')"
   ]
  },
  {
   "cell_type": "markdown",
   "metadata": {},
   "source": [
    "# 3"
   ]
  },
  {
   "cell_type": "code",
   "execution_count": 110,
   "metadata": {},
   "outputs": [],
   "source": [
    "C = np.sqrt(B)"
   ]
  },
  {
   "cell_type": "code",
   "execution_count": 7,
   "metadata": {},
   "outputs": [
    {
     "name": "stdout",
     "output_type": "stream",
     "text": [
      "[[0.83454729 0.53491993 0.47628925]\n",
      " [0.74250574 0.84821517 0.65046634]\n",
      " [0.9903354  0.8275444  0.69349254]]\n"
     ]
    }
   ],
   "source": [
    "print(C)"
   ]
  },
  {
   "cell_type": "code",
   "execution_count": 8,
   "metadata": {},
   "outputs": [
    {
     "name": "stdout",
     "output_type": "stream",
     "text": [
      "0.6964691855978616 The sqrt is 0.8345472938053671  0.6964691855978616\n",
      "0.28613933495037946 The sqrt is 0.5349199332146629  0.2861393349503794\n",
      "0.2268514535642031 The sqrt is 0.4762892540927237  0.22685145356420314\n",
      "0.5513147690828912 The sqrt is 0.742505736733994  0.5513147690828912\n",
      "0.7194689697855631 The sqrt is 0.8482151671513326  0.7194689697855631\n",
      "0.42310646012446096 The sqrt is 0.6504663405007679  0.4231064601244609\n",
      "0.9807641983846155 The sqrt is 0.9903353969159213  0.9807641983846154\n",
      "0.6848297385848633 The sqrt is 0.8275444027874657  0.6848297385848632\n",
      "0.48093190148436094 The sqrt is 0.6934925388815376  0.48093190148436094\n"
     ]
    }
   ],
   "source": [
    "for i in range(len(B)):\n",
    "    for j in range(len(B)):\n",
    "        b = np.sqrt(B[i][j])\n",
    "        a = b**2\n",
    "        print(B[i][j], f'The sqrt is {b}  {a}',sep = ' ')"
   ]
  },
  {
   "cell_type": "markdown",
   "metadata": {},
   "source": [
    "# 4"
   ]
  },
  {
   "cell_type": "code",
   "execution_count": 9,
   "metadata": {},
   "outputs": [],
   "source": [
    "D = C@C"
   ]
  },
  {
   "cell_type": "code",
   "execution_count": 31,
   "metadata": {},
   "outputs": [
    {
     "name": "stdout",
     "output_type": "stream",
     "text": [
      "[[1.56533641 1.29429369 1.07573636]\n",
      " [1.89364062 1.65493987 1.35647647]\n",
      " [2.1277284  1.80558173 1.49090779]]\n",
      "1.5653364122018196\n",
      "1.2942936895633501\n",
      "1.0757363635534731\n",
      "1.8936406223212379\n",
      "1.6549398681738716\n",
      "1.356476473173637\n",
      "2.127728400679124\n",
      "1.8055817272401864\n",
      "1.4909077882661228\n"
     ]
    }
   ],
   "source": [
    "print(D)\n",
    "for k in range(3):\n",
    "\n",
    "    for j in range(3):\n",
    "        \n",
    "        x = 0\n",
    "        for i in range(3):\n",
    "            x += C[k][i]*C[i][j]\n",
    "        print(x)"
   ]
  },
  {
   "cell_type": "markdown",
   "metadata": {},
   "source": [
    "# 5"
   ]
  },
  {
   "cell_type": "code",
   "execution_count": 29,
   "metadata": {},
   "outputs": [
    {
     "name": "stdout",
     "output_type": "stream",
     "text": [
      "[[False False False]\n",
      " [False False False]\n",
      " [False False False]]\n"
     ]
    }
   ],
   "source": [
    "print(B==D)"
   ]
  },
  {
   "cell_type": "code",
   "execution_count": 50,
   "metadata": {},
   "outputs": [
    {
     "name": "stdout",
     "output_type": "stream",
     "text": [
      "0.6965 0.2861 0.2269  1.565 1.294 1.076\n",
      "0.5513 0.7195 0.4231  1.894 1.655 1.356\n",
      "0.9808 0.6848 0.4809  2.128 1.806 1.491\n"
     ]
    }
   ],
   "source": [
    "for i in range(3):\n",
    "    print(f'{B[i][0]:.4} {B[i][1]:.4} {B[i][2]:.4}  {D[i][0]:.4} {D[i][1]:.4} {D[i][2]:.4}')"
   ]
  },
  {
   "cell_type": "markdown",
   "metadata": {},
   "source": [
    "# 6"
   ]
  },
  {
   "cell_type": "code",
   "execution_count": 32,
   "metadata": {},
   "outputs": [],
   "source": [
    "F = np.diag(A)"
   ]
  },
  {
   "cell_type": "code",
   "execution_count": 33,
   "metadata": {},
   "outputs": [
    {
     "name": "stdout",
     "output_type": "stream",
     "text": [
      "[1. 1. 1.]\n"
     ]
    }
   ],
   "source": [
    "print(F)"
   ]
  },
  {
   "cell_type": "markdown",
   "metadata": {},
   "source": [
    "# 7"
   ]
  },
  {
   "cell_type": "code",
   "execution_count": 73,
   "metadata": {},
   "outputs": [
    {
     "name": "stdout",
     "output_type": "stream",
     "text": [
      "True\n"
     ]
    }
   ],
   "source": [
    "print(np.array_equal(A,np.identity(3)))\n"
   ]
  },
  {
   "cell_type": "code",
   "execution_count": 52,
   "metadata": {},
   "outputs": [
    {
     "name": "stdout",
     "output_type": "stream",
     "text": [
      "[[ True False False]\n",
      " [False  True False]\n",
      " [False False  True]]\n"
     ]
    }
   ],
   "source": [
    "print(A==1)"
   ]
  },
  {
   "cell_type": "markdown",
   "metadata": {},
   "source": [
    "# 8"
   ]
  },
  {
   "cell_type": "code",
   "execution_count": 81,
   "metadata": {},
   "outputs": [
    {
     "name": "stdout",
     "output_type": "stream",
     "text": [
      "[0.69646919 0.55131477 0.71946897 0.9807642  0.68482974]\n"
     ]
    }
   ],
   "source": [
    "print(B[B>0.5])"
   ]
  },
  {
   "cell_type": "code",
   "execution_count": 84,
   "metadata": {},
   "outputs": [
    {
     "name": "stdout",
     "output_type": "stream",
     "text": [
      "[[0.69646919 0.28613933 0.22685145]\n",
      " [0.55131477 0.71946897 0.42310646]\n",
      " [0.9807642  0.68482974 0.4809319 ]]\n",
      "[[ True False False]\n",
      " [ True  True False]\n",
      " [ True  True False]]\n"
     ]
    }
   ],
   "source": [
    "print(B)\n",
    "print(B > 0.5)"
   ]
  },
  {
   "cell_type": "markdown",
   "metadata": {},
   "source": [
    "# 9"
   ]
  },
  {
   "cell_type": "code",
   "execution_count": 90,
   "metadata": {},
   "outputs": [],
   "source": [
    "B[B < 0.5] = -1*B[B < 0.5] "
   ]
  },
  {
   "cell_type": "code",
   "execution_count": 91,
   "metadata": {},
   "outputs": [
    {
     "name": "stdout",
     "output_type": "stream",
     "text": [
      "[[ 0.69646919 -0.28613933 -0.22685145]\n",
      " [ 0.55131477  0.71946897 -0.42310646]\n",
      " [ 0.9807642   0.68482974 -0.4809319 ]]\n"
     ]
    }
   ],
   "source": [
    "print(B)"
   ]
  },
  {
   "cell_type": "markdown",
   "metadata": {},
   "source": [
    "# 10"
   ]
  },
  {
   "cell_type": "code",
   "execution_count": 98,
   "metadata": {},
   "outputs": [
    {
     "name": "stdout",
     "output_type": "stream",
     "text": [
      "0.5847709245543481\n"
     ]
    }
   ],
   "source": [
    "print(np.std(B,ddof=1))"
   ]
  },
  {
   "cell_type": "markdown",
   "metadata": {},
   "source": [
    "# 11"
   ]
  },
  {
   "cell_type": "code",
   "execution_count": 147,
   "metadata": {},
   "outputs": [],
   "source": [
    "v = np.arange(100)**2"
   ]
  },
  {
   "cell_type": "code",
   "execution_count": 148,
   "metadata": {},
   "outputs": [
    {
     "name": "stdout",
     "output_type": "stream",
     "text": [
      "[   0    1    4    9   16   25   36   49   64   81  100  121  144  169\n",
      "  196  225  256  289  324  361  400  441  484  529  576  625  676  729\n",
      "  784  841  900  961 1024 1089 1156 1225 1296 1369 1444 1521 1600 1681\n",
      " 1764 1849 1936 2025 2116 2209 2304 2401 2500 2601 2704 2809 2916 3025\n",
      " 3136 3249 3364 3481 3600 3721 3844 3969 4096 4225 4356 4489 4624 4761\n",
      " 4900 5041 5184 5329 5476 5625 5776 5929 6084 6241 6400 6561 6724 6889\n",
      " 7056 7225 7396 7569 7744 7921 8100 8281 8464 8649 8836 9025 9216 9409\n",
      " 9604 9801]\n",
      "(100,)\n"
     ]
    },
    {
     "data": {
      "text/plain": [
       "100"
      ]
     },
     "execution_count": 148,
     "metadata": {},
     "output_type": "execute_result"
    }
   ],
   "source": [
    "print(v)\n",
    "print(v.shape)\n",
    "type(v)\n",
    "len(v)"
   ]
  },
  {
   "cell_type": "markdown",
   "metadata": {},
   "source": [
    "# 12"
   ]
  },
  {
   "cell_type": "code",
   "execution_count": 149,
   "metadata": {},
   "outputs": [],
   "source": [
    "w = v[1::2].reshape(2,25)"
   ]
  },
  {
   "cell_type": "code",
   "execution_count": 151,
   "metadata": {},
   "outputs": [
    {
     "name": "stdout",
     "output_type": "stream",
     "text": [
      "[[   1    9   25   49   81  121  169  225  289  361  441  529  625  729\n",
      "   841  961 1089 1225 1369 1521 1681 1849 2025 2209 2401]\n",
      " [2601 2809 3025 3249 3481 3721 3969 4225 4489 4761 5041 5329 5625 5929\n",
      "  6241 6561 6889 7225 7569 7921 8281 8649 9025 9409 9801]]\n",
      "(2, 25)\n"
     ]
    },
    {
     "data": {
      "text/plain": [
       "2"
      ]
     },
     "execution_count": 151,
     "metadata": {},
     "output_type": "execute_result"
    }
   ],
   "source": [
    "print(w)\n",
    "print(w.shape)\n",
    "type(w)\n",
    "len(w)"
   ]
  },
  {
   "cell_type": "markdown",
   "metadata": {},
   "source": [
    "# 13"
   ]
  },
  {
   "cell_type": "code",
   "execution_count": 154,
   "metadata": {},
   "outputs": [
    {
     "name": "stdout",
     "output_type": "stream",
     "text": [
      "[ 625. 5625.]\n"
     ]
    }
   ],
   "source": [
    "print(np.median(w,axis = 1))"
   ]
  },
  {
   "cell_type": "markdown",
   "metadata": {},
   "source": [
    "# 14"
   ]
  },
  {
   "cell_type": "code",
   "execution_count": 161,
   "metadata": {},
   "outputs": [
    {
     "name": "stdout",
     "output_type": "stream",
     "text": [
      "the flux ratio of each difference is [    1    10   100  1000 10000]\n"
     ]
    }
   ],
   "source": [
    "print('the flux ratio of each difference is',10**np.arange(5))"
   ]
  },
  {
   "cell_type": "markdown",
   "metadata": {},
   "source": [
    "# 15"
   ]
  },
  {
   "cell_type": "code",
   "execution_count": 206,
   "metadata": {},
   "outputs": [
    {
     "data": {
      "text/plain": [
       "array([-1.        , -0.69897   , -0.52287875, -0.39794001, -0.30103   ,\n",
       "       -0.22184875, -0.15490196, -0.09691001, -0.04575749,  0.        ,\n",
       "        0.04139269,  0.07918125,  0.11394335,  0.14612804,  0.17609126,\n",
       "        0.20411998,  0.23044892,  0.25527251,  0.2787536 ,  0.30103   ])"
      ]
     },
     "execution_count": 206,
     "metadata": {},
     "output_type": "execute_result"
    }
   ],
   "source": [
    "np.log10(np.arange(0.1,2.1,0.10))"
   ]
  }
 ],
 "metadata": {
  "kernelspec": {
   "display_name": "Python 3",
   "language": "python",
   "name": "python3"
  },
  "language_info": {
   "codemirror_mode": {
    "name": "ipython",
    "version": 3
   },
   "file_extension": ".py",
   "mimetype": "text/x-python",
   "name": "python",
   "nbconvert_exporter": "python",
   "pygments_lexer": "ipython3",
   "version": "3.7.3"
  }
 },
 "nbformat": 4,
 "nbformat_minor": 2
}
