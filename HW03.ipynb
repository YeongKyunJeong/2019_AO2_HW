{
 "cells": [
  {
   "cell_type": "code",
   "execution_count": 2,
   "metadata": {},
   "outputs": [],
   "source": [
    "from pathlib import Path\n",
    "TOPPATH = Path('.')"
   ]
  },
  {
   "cell_type": "code",
   "execution_count": 3,
   "metadata": {},
   "outputs": [
    {
     "name": "stdout",
     "output_type": "stream",
     "text": [
      "C:\\Users\\jjbyk\\AO2\\HW03NW\n"
     ]
    }
   ],
   "source": [
    "print(TOPPATH.resolve())"
   ]
  },
  {
   "cell_type": "markdown",
   "metadata": {},
   "source": [
    "Below codes are composed with first cell the answer of problem is in and second cell printng out the results of first cell."
   ]
  },
  {
   "cell_type": "markdown",
   "metadata": {},
   "source": [
    "# 1"
   ]
  },
  {
   "cell_type": "code",
   "execution_count": 19,
   "metadata": {},
   "outputs": [],
   "source": [
    "filepath = TOPPATH/'hwtest00.txt'; filepath.touch()"
   ]
  },
  {
   "cell_type": "code",
   "execution_count": 20,
   "metadata": {},
   "outputs": [
    {
     "name": "stdout",
     "output_type": "stream",
     "text": [
      "hwtest00.txt\n"
     ]
    }
   ],
   "source": [
    "for i in list(TOPPATH.glob('*.txt')):\n",
    "    print(i)"
   ]
  },
  {
   "cell_type": "markdown",
   "metadata": {},
   "source": [
    "# 2 "
   ]
  },
  {
   "cell_type": "code",
   "execution_count": 21,
   "metadata": {},
   "outputs": [
    {
     "name": "stdout",
     "output_type": "stream",
     "text": [
      "That file already exists\n"
     ]
    }
   ],
   "source": [
    "if not filepath.exists():\n",
    "    print(\"New file was made\")\n",
    "    filepath.touch()\n",
    "else:\n",
    "    print(\"That file already exists\")"
   ]
  },
  {
   "cell_type": "markdown",
   "metadata": {},
   "source": [
    "# 3"
   ]
  },
  {
   "cell_type": "code",
   "execution_count": 22,
   "metadata": {},
   "outputs": [],
   "source": [
    "filelist = []\n",
    "for i in range(1,11):\n",
    "    filelist.append(TOPPATH/f\"test{i:02d}.txt\")\n"
   ]
  },
  {
   "cell_type": "code",
   "execution_count": 23,
   "metadata": {},
   "outputs": [
    {
     "name": "stdout",
     "output_type": "stream",
     "text": [
      "test01.txt\n",
      "test02.txt\n",
      "test03.txt\n",
      "test04.txt\n",
      "test05.txt\n",
      "test06.txt\n",
      "test07.txt\n",
      "test08.txt\n",
      "test09.txt\n",
      "test10.txt\n"
     ]
    }
   ],
   "source": [
    "for files in filelist:\n",
    "    print(files)"
   ]
  },
  {
   "cell_type": "markdown",
   "metadata": {},
   "source": [
    "# 4 "
   ]
  },
  {
   "cell_type": "code",
   "execution_count": 24,
   "metadata": {},
   "outputs": [],
   "source": [
    "for files in filelist:\n",
    "    files.touch()"
   ]
  },
  {
   "cell_type": "code",
   "execution_count": 25,
   "metadata": {},
   "outputs": [
    {
     "name": "stdout",
     "output_type": "stream",
     "text": [
      "hwtest00.txt\n",
      "test01.txt\n",
      "test02.txt\n",
      "test03.txt\n",
      "test04.txt\n",
      "test05.txt\n",
      "test06.txt\n",
      "test07.txt\n",
      "test08.txt\n",
      "test09.txt\n",
      "test10.txt\n"
     ]
    }
   ],
   "source": [
    "for i in list(TOPPATH.glob('*.txt')):\n",
    "    print(i)"
   ]
  },
  {
   "cell_type": "markdown",
   "metadata": {},
   "source": [
    "# 5"
   ]
  },
  {
   "cell_type": "code",
   "execution_count": 26,
   "metadata": {},
   "outputs": [],
   "source": [
    "filelist2 = []\n",
    "for i in range(8,13):\n",
    "    filelist2.append(TOPPATH/f\"test{i:02d}.txt\")\n"
   ]
  },
  {
   "cell_type": "code",
   "execution_count": 27,
   "metadata": {},
   "outputs": [
    {
     "name": "stdout",
     "output_type": "stream",
     "text": [
      "test08.txt\n",
      "test09.txt\n",
      "test10.txt\n",
      "test11.txt\n",
      "test12.txt\n"
     ]
    }
   ],
   "source": [
    "for files in filelist2:\n",
    "    print(files)"
   ]
  },
  {
   "cell_type": "markdown",
   "metadata": {},
   "source": [
    "# 6"
   ]
  },
  {
   "cell_type": "code",
   "execution_count": 28,
   "metadata": {},
   "outputs": [],
   "source": [
    "for files in filelist2:\n",
    "    if not files.exists():\n",
    "        files.touch()"
   ]
  },
  {
   "cell_type": "code",
   "execution_count": 29,
   "metadata": {},
   "outputs": [
    {
     "name": "stdout",
     "output_type": "stream",
     "text": [
      "hwtest00.txt\n",
      "test01.txt\n",
      "test02.txt\n",
      "test03.txt\n",
      "test04.txt\n",
      "test05.txt\n",
      "test06.txt\n",
      "test07.txt\n",
      "test08.txt\n",
      "test09.txt\n",
      "test10.txt\n",
      "test11.txt\n",
      "test12.txt\n"
     ]
    }
   ],
   "source": [
    "for i in list(TOPPATH.glob('*.txt')):\n",
    "    print(i)"
   ]
  },
  {
   "cell_type": "markdown",
   "metadata": {},
   "source": [
    "# 7"
   ]
  },
  {
   "cell_type": "code",
   "execution_count": 30,
   "metadata": {},
   "outputs": [],
   "source": [
    "filelist3 = list(set().union(filelist,filelist2))\n",
    "filelist3.sort()"
   ]
  },
  {
   "cell_type": "code",
   "execution_count": 31,
   "metadata": {},
   "outputs": [
    {
     "name": "stdout",
     "output_type": "stream",
     "text": [
      "test01.txt\n",
      "test02.txt\n",
      "test03.txt\n",
      "test04.txt\n",
      "test05.txt\n",
      "test06.txt\n",
      "test07.txt\n",
      "test08.txt\n",
      "test09.txt\n",
      "test10.txt\n",
      "test11.txt\n",
      "test12.txt\n"
     ]
    }
   ],
   "source": [
    "for i in filelist3:\n",
    "    print(i)"
   ]
  },
  {
   "cell_type": "markdown",
   "metadata": {},
   "source": [
    "7번 추가 방법"
   ]
  },
  {
   "cell_type": "code",
   "execution_count": 53,
   "metadata": {},
   "outputs": [
    {
     "name": "stdout",
     "output_type": "stream",
     "text": [
      "test05.txt\n",
      "test09.txt\n",
      "test08.txt\n",
      "test10.txt\n",
      "test11.txt\n",
      "test07.txt\n",
      "test04.txt\n",
      "test12.txt\n",
      "test01.txt\n",
      "test06.txt\n",
      "test03.txt\n",
      "test02.txt\n"
     ]
    }
   ],
   "source": [
    "filelist3 = []\n",
    "for files in set(filelist)|set(filelist2):\n",
    "    filelist3.append(files)\n",
    "filelist3.sort()"
   ]
  },
  {
   "cell_type": "code",
   "execution_count": null,
   "metadata": {},
   "outputs": [],
   "source": [
    "for i in filelist3:\n",
    "    print(i)"
   ]
  },
  {
   "cell_type": "markdown",
   "metadata": {},
   "source": [
    "# 8"
   ]
  },
  {
   "cell_type": "code",
   "execution_count": 32,
   "metadata": {},
   "outputs": [
    {
     "name": "stdout",
     "output_type": "stream",
     "text": [
      "hwtest00.txt\n",
      "test01.txt\n",
      "test02.txt\n",
      "test03.txt\n",
      "test04.txt\n",
      "test05.txt\n",
      "test06.txt\n",
      "test07.txt\n",
      "test08.txt\n",
      "test09.txt\n",
      "test10.txt\n",
      "test11.txt\n",
      "test12.txt\n"
     ]
    }
   ],
   "source": [
    "allfiles = list(TOPPATH.glob('*.txt'))\n",
    "for i in allfiles:\n",
    "    print(i)"
   ]
  },
  {
   "cell_type": "markdown",
   "metadata": {},
   "source": [
    "# 9"
   ]
  },
  {
   "cell_type": "code",
   "execution_count": 33,
   "metadata": {},
   "outputs": [],
   "source": [
    "allfiles.append(TOPPATH/'tttt00.txt')"
   ]
  },
  {
   "cell_type": "code",
   "execution_count": 34,
   "metadata": {},
   "outputs": [
    {
     "name": "stdout",
     "output_type": "stream",
     "text": [
      "hwtest00.txt\n",
      "test01.txt\n",
      "test02.txt\n",
      "test03.txt\n",
      "test04.txt\n",
      "test05.txt\n",
      "test06.txt\n",
      "test07.txt\n",
      "test08.txt\n",
      "test09.txt\n",
      "test10.txt\n",
      "test11.txt\n",
      "test12.txt\n",
      "tttt00.txt\n"
     ]
    }
   ],
   "source": [
    "for i in allfiles:\n",
    "    print(i)"
   ]
  },
  {
   "cell_type": "markdown",
   "metadata": {},
   "source": [
    "# 10"
   ]
  },
  {
   "cell_type": "code",
   "execution_count": 35,
   "metadata": {},
   "outputs": [],
   "source": [
    "allfiles.sort()"
   ]
  },
  {
   "cell_type": "code",
   "execution_count": 36,
   "metadata": {},
   "outputs": [
    {
     "name": "stdout",
     "output_type": "stream",
     "text": [
      "hwtest00.txt\n",
      "test01.txt\n",
      "test02.txt\n",
      "test03.txt\n",
      "test04.txt\n",
      "test05.txt\n",
      "test06.txt\n",
      "test07.txt\n",
      "test08.txt\n",
      "test09.txt\n",
      "test10.txt\n",
      "test11.txt\n",
      "test12.txt\n",
      "tttt00.txt\n"
     ]
    }
   ],
   "source": [
    "for i in allfiles:\n",
    "    print(i)"
   ]
  },
  {
   "cell_type": "markdown",
   "metadata": {},
   "source": [
    "# 11"
   ]
  },
  {
   "cell_type": "code",
   "execution_count": 37,
   "metadata": {},
   "outputs": [
    {
     "name": "stdout",
     "output_type": "stream",
     "text": [
      "hwtest00.txt\n"
     ]
    }
   ],
   "source": [
    "print(allfiles[0])\n",
    "allfiles[0].unlink()"
   ]
  },
  {
   "cell_type": "code",
   "execution_count": 38,
   "metadata": {},
   "outputs": [
    {
     "name": "stdout",
     "output_type": "stream",
     "text": [
      "test01.txt\n",
      "test02.txt\n",
      "test03.txt\n",
      "test04.txt\n",
      "test05.txt\n",
      "test06.txt\n",
      "test07.txt\n",
      "test08.txt\n",
      "test09.txt\n",
      "test10.txt\n",
      "test11.txt\n",
      "test12.txt\n"
     ]
    }
   ],
   "source": [
    "for i in list(TOPPATH.glob('*.txt')):\n",
    "    print(i)"
   ]
  },
  {
   "cell_type": "markdown",
   "metadata": {},
   "source": [
    "# 12"
   ]
  },
  {
   "cell_type": "code",
   "execution_count": 39,
   "metadata": {},
   "outputs": [],
   "source": [
    "for files in allfiles:\n",
    "    if files.exists():\n",
    "        files.unlink()"
   ]
  },
  {
   "cell_type": "code",
   "execution_count": 40,
   "metadata": {},
   "outputs": [],
   "source": [
    "for i in list(TOPPATH.glob('*.txt')):\n",
    "    print(i)"
   ]
  },
  {
   "cell_type": "markdown",
   "metadata": {},
   "source": [
    "# Advanced"
   ]
  },
  {
   "cell_type": "code",
   "execution_count": 41,
   "metadata": {},
   "outputs": [],
   "source": [
    "for files in filelist3:\n",
    "    files.touch()"
   ]
  },
  {
   "cell_type": "code",
   "execution_count": 43,
   "metadata": {},
   "outputs": [],
   "source": [
    "for fpath in filelist3:\n",
    "    try:\n",
    "        fpath.unlink()\n",
    "    except FileNotFoundError:\n",
    "        continue"
   ]
  },
  {
   "cell_type": "markdown",
   "metadata": {},
   "source": [
    "All files were removed."
   ]
  }
 ],
 "metadata": {
  "kernelspec": {
   "display_name": "Python 3",
   "language": "python",
   "name": "python3"
  },
  "language_info": {
   "codemirror_mode": {
    "name": "ipython",
    "version": 3
   },
   "file_extension": ".py",
   "mimetype": "text/x-python",
   "name": "python",
   "nbconvert_exporter": "python",
   "pygments_lexer": "ipython3",
   "version": "3.7.3"
  }
 },
 "nbformat": 4,
 "nbformat_minor": 2
}
